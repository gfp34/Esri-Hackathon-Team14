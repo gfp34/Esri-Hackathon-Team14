{
 "cells": [
  {
   "cell_type": "markdown",
   "metadata": {},
   "source": [
    "## Service Area Intersection Test"
   ]
  },
  {
   "cell_type": "code",
   "execution_count": 4,
   "metadata": {},
   "outputs": [],
   "source": [
    "import arcpy\n",
    "\n",
    "arcpy.env.overwriteOutput = True\n",
    "\n",
    "single_house = arcpy.analysis.Select(\n",
    "    r\"C:\\Users\\gre13341\\Documents\\Hackathon\\New_File_Geodatabase.gdb\\PublicHousing_Points\", \n",
    "    r\"memory\\single_house\", \n",
    "    where_clause=\"OBJECTID = 26689\"\n",
    ")"
   ]
  },
  {
   "cell_type": "code",
   "execution_count": 8,
   "metadata": {},
   "outputs": [
    {
     "data": {
      "text/plain": [
       "'memory\\\\interseciton_a7dd8bf69b204eb7b9b95dc9dbc22383'"
      ]
     },
     "execution_count": 8,
     "metadata": {},
     "output_type": "execute_result"
    }
   ],
   "source": [
    "from src.service_area import ServiceArea\n",
    "\n",
    "service_area = ServiceArea()\n",
    "service_area.set_properties(\"walking\", [20])\n",
    "intersection_layer = service_area.compute_intersection(\n",
    "    r\"memory\\single_house\", \n",
    "    r\"C:\\Users\\gre13341\\Documents\\Hackathon\\New_File_Geodatabase.gdb\\Metro_Stations\"\n",
    ")\n",
    "intersection_layer"
   ]
  },
  {
   "cell_type": "code",
   "execution_count": 10,
   "metadata": {},
   "outputs": [
    {
     "data": {
      "text/html": [
       "<div class='gpresult'><h2>Messages</h2><div id='messages' data-messages='[\"Start Time: Saturday, July 22, 2023 11:36:24 PM\",\"Succeeded at Saturday, July 22, 2023 11:36:25 PM (Elapsed Time: 1.02 seconds)\"]' data-show='true'><div id = 'default' /></div></div>"
      ],
      "text/plain": [
       "<Result 'C:\\\\Users\\\\gre13341\\\\Documents\\\\Hackathon\\\\New_File_Geodatabase.gdb\\\\final_result'>"
      ]
     },
     "execution_count": 10,
     "metadata": {},
     "output_type": "execute_result"
    }
   ],
   "source": [
    "arcpy.management.CopyFeatures(intersection_layer, r\"C:\\Users\\gre13341\\Documents\\Hackathon\\New_File_Geodatabase.gdb\\final_result\")"
   ]
  }
 ],
 "metadata": {
  "kernelspec": {
   "display_name": "hackathon",
   "language": "python",
   "name": "python3"
  },
  "language_info": {
   "codemirror_mode": {
    "name": "ipython",
    "version": 3
   },
   "file_extension": ".py",
   "mimetype": "text/x-python",
   "name": "python",
   "nbconvert_exporter": "python",
   "pygments_lexer": "ipython3",
   "version": "3.9.16"
  },
  "orig_nbformat": 4
 },
 "nbformat": 4,
 "nbformat_minor": 2
}
