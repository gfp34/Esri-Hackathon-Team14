{
 "cells": [
  {
   "cell_type": "markdown",
   "metadata": {},
   "source": [
    "## Service Area Intersection Test"
   ]
  },
  {
   "cell_type": "code",
   "execution_count": 1,
   "metadata": {},
   "outputs": [],
   "source": [
    "import arcpy\n",
    "\n",
    "public_housing = arcpy.management.SelectLayerByAttribute(\n",
    "    in_layer_or_view=r\"C:\\Users\\gre13341\\Documents\\Hackathon\\New_File_Geodatabase.gdb\\PublicHousing_Points\",\n",
    "    selection_type=\"NEW_SELECTION\",\n",
    "    where_clause=\"OBJECTID = 26689\",\n",
    "    invert_where_clause=None\n",
    ")\n",
    "\n",
    "single_house = arcpy.analysis.Select(\n",
    "    r\"C:\\Users\\gre13341\\Documents\\Hackathon\\New_File_Geodatabase.gdb\\PublicHousing_Points\", \n",
    "    r\"C:\\Users\\gre13341\\Documents\\Hackathon\\New_File_Geodatabase.gdb\\single_house\", \n",
    "    where_clause=\"OBJECTID = 26689\"\n",
    ")"
   ]
  },
  {
   "cell_type": "code",
   "execution_count": 2,
   "metadata": {},
   "outputs": [
    {
     "data": {
      "text/plain": [
       "'memory\\\\interseciton'"
      ]
     },
     "execution_count": 2,
     "metadata": {},
     "output_type": "execute_result"
    }
   ],
   "source": [
    "from src.service_area import ServiceArea\n",
    "\n",
    "service_area = ServiceArea()\n",
    "service_area.set_properties(\"walking\", [20])\n",
    "intersection_layer = service_area.compute_intersection(\n",
    "    r\"C:\\Users\\gre13341\\Documents\\Hackathon\\New_File_Geodatabase.gdb\\single_house\", \n",
    "    r\"C:\\Users\\gre13341\\Documents\\Hackathon\\New_File_Geodatabase.gdb\\Metro_Stations\"\n",
    ")\n",
    "intersection_layer"
   ]
  },
  {
   "cell_type": "code",
   "execution_count": 3,
   "metadata": {},
   "outputs": [
    {
     "data": {
      "text/html": [
       "<div class='gpresult'><h2>Messages</h2><div id='messages' data-messages='[\"Start Time: Saturday, July 22, 2023 10:45:23 PM\",\"Succeeded at Saturday, July 22, 2023 10:45:24 PM (Elapsed Time: 0.71 seconds)\"]' data-show='true'><div id = 'default' /></div></div>"
      ],
      "text/plain": [
       "<Result 'C:\\\\Users\\\\gre13341\\\\Documents\\\\Hackathon\\\\New_File_Geodatabase.gdb\\\\final_result'>"
      ]
     },
     "execution_count": 3,
     "metadata": {},
     "output_type": "execute_result"
    }
   ],
   "source": [
    "arcpy.management.CopyFeatures(intersection_layer, r\"C:\\Users\\gre13341\\Documents\\Hackathon\\New_File_Geodatabase.gdb\\final_result\")"
   ]
  }
 ],
 "metadata": {
  "kernelspec": {
   "display_name": "hackathon",
   "language": "python",
   "name": "python3"
  },
  "language_info": {
   "codemirror_mode": {
    "name": "ipython",
    "version": 3
   },
   "file_extension": ".py",
   "mimetype": "text/x-python",
   "name": "python",
   "nbconvert_exporter": "python",
   "pygments_lexer": "ipython3",
   "version": "3.9.16"
  },
  "orig_nbformat": 4
 },
 "nbformat": 4,
 "nbformat_minor": 2
}
